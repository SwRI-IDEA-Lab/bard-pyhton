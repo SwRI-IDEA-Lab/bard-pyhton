{
 "cells": [
  {
   "cell_type": "code",
   "execution_count": null,
   "metadata": {},
   "outputs": [],
   "source": [
    "import numpy as np\n",
    "from os.path import dirname, join as pjoin\n",
    "import scipy.io as sio\n",
    "from scipy.io import readsav\n",
    "import pandas as pd\n",
    "import pickle \n",
    "import matplotlib\n",
    "import matplotlib.pyplot as plt\n",
    "import glob\n",
    "import requests"
   ]
  },
  {
   "cell_type": "code",
   "execution_count": null,
   "metadata": {},
   "outputs": [],
   "source": [
    "#opening IDL files\n",
    "file_name = \"AR_catalog_21-22.sav\"\n",
    "\n",
    "input_filepath = f'/Users/ysabellalopez/Boulder Solare REU files/bard-pyhton/data/{file_name}'\n",
    "fromIDL = readsav(input_filepath)\n",
    "fromIDL"
   ]
  },
  {
   "cell_type": "code",
   "execution_count": null,
   "metadata": {},
   "outputs": [],
   "source": [
    "#printing arst\n",
    "fromIDL ['arst']"
   ]
  },
  {
   "cell_type": "code",
   "execution_count": null,
   "metadata": {},
   "outputs": [],
   "source": [
    "#creating dataframe from IDL file array\n",
    "\n",
    "# Creating a numpy array\n",
    "arr =  np.array([fromIDL])\n",
    "\n",
    "# Display original array\n",
    "print(arr)\n",
    "\n",
    "df = pd.DataFrame(arr)\n",
    "\n",
    "print(df)\n",
    "print(type(df))\n",
    "print(fromIDL['arst'].dtype.names)"
   ]
  },
  {
   "cell_type": "code",
   "execution_count": null,
   "metadata": {},
   "outputs": [],
   "source": [
    "#creating a dictionary and dataframe from dictionary\n",
    "\n",
    "output_dictionary = {}\n",
    "\n",
    "for label in fromIDL['arst'].dtype.names:\n",
    "    print(label)\n",
    "    print(fromIDL['arst'][label])\n",
    "    output_dictionary[label] = fromIDL['arst'][label].byteswap().newbyteorder()\n",
    "\n",
    "output_dictionary\n",
    "\n",
    "pd.DataFrame(output_dictionary)\n",
    "\n",
    "bard_df = pd.DataFrame(output_dictionary)\n",
    "\n",
    "bard_df"
   ]
  },
  {
   "cell_type": "code",
   "execution_count": null,
   "metadata": {},
   "outputs": [],
   "source": [
    "#slicing the dataframe\n",
    "desired_id = 1\n",
    "sliced_df = bard_df.loc[bard_df['LABL']== desired_id, :]\n",
    "\n",
    "sliced_df"
   ]
  },
  {
   "cell_type": "code",
   "execution_count": null,
   "metadata": {},
   "outputs": [],
   "source": [
    "#get unique values in the dataframe\n",
    "\n",
    "unique_values = np.unique(bard_df['LABL'].values)\n",
    "\n",
    "print(unique_values)\n",
    "\n",
    "unique_id = np.random.choice(bard_df['LABL'].unique())\n",
    "\n",
    "print(unique_id)"
   ]
  },
  {
   "cell_type": "code",
   "execution_count": null,
   "metadata": {},
   "outputs": [],
   "source": [
    "#printing column names\n",
    "bard_df.columns"
   ]
  },
  {
   "cell_type": "code",
   "execution_count": null,
   "metadata": {},
   "outputs": [],
   "source": [
    "#printing latitude values\n",
    "print(bard_df[['FCN_LTP']].to_string(index=False))"
   ]
  },
  {
   "cell_type": "code",
   "execution_count": null,
   "metadata": {},
   "outputs": [],
   "source": [
    "#printing flux values\n",
    "print(bard_df[['FLUXP']].to_string(index=False))\n",
    "print(bard_df[['FLUXN']].to_string(index=False))"
   ]
  },
  {
   "cell_type": "code",
   "execution_count": null,
   "metadata": {},
   "outputs": [],
   "source": [
    "#printing area values\n",
    "print(bard_df[['AREAP']].to_string(index=False))\n",
    "print(bard_df[['AREAN']].to_string(index=False))"
   ]
  },
  {
   "cell_type": "code",
   "execution_count": null,
   "metadata": {},
   "outputs": [],
   "source": [
    "#lat plot\n",
    "fig, ax = plt.subplots()\n",
    "x = [1976, 1977, 1978, 1979, 1980, 1981, 1982, 1983, 1984, 1985, 1986, 1987, 1988, 1989, 1990, 1991, 1992, 1993 ]\n",
    "y = [bard_df['FCN_LTP']]\n",
    "ax.plot_date(x,y,'.')\n",
    "ax.set_xlabel('dates')\n",
    "ax.set_ylabel('latitude')\n",
    "ax.set_title('scatter plot of latitude of active regions over time')"
   ]
  },
  {
   "cell_type": "code",
   "execution_count": null,
   "metadata": {},
   "outputs": [],
   "source": [
    "#lon plot\n",
    "fig, ax = plt.subplots()\n",
    "ax.plot_date(bard_df['DATE'],bard_df['FCN_LNP'],'.')\n",
    "ax.set_xlabel('dates')\n",
    "plt.setp(ax.get_xticklabels(), rotation = 75)\n",
    "ax.set_ylabel('longitude')\n",
    "ax.set_title('scatter plot of longitude of active regions over time')\n"
   ]
  },
  {
   "cell_type": "code",
   "execution_count": null,
   "metadata": {},
   "outputs": [],
   "source": [
    "#positive flux plot\n",
    "fig, ax = plt.subplots()\n",
    "ax.plot_date(bard_df['DATE'],bard_df['FLUXP'],'.')\n",
    "ax.set_xlabel('dates')\n",
    "ax.set_ylabel('positive flux')\n",
    "ax.set_title('scatter plot of positive flux of active regions over time')"
   ]
  },
  {
   "cell_type": "code",
   "execution_count": null,
   "metadata": {},
   "outputs": [],
   "source": [
    "#neg area plot\n",
    "fig, ax = plt.subplots()\n",
    "ax.plot_date(bard_df['DATE'],bard_df['AREAN'],'.')\n",
    "ax.set_xlabel('dates')\n",
    "ax.set_ylabel('negative area')\n",
    "ax.set_title('scatter plot of negative area of active regions over time')"
   ]
  },
  {
   "cell_type": "code",
   "execution_count": null,
   "metadata": {},
   "outputs": [],
   "source": [
    "#absolute area histogram\n",
    "plt.hist(bard_df['AREAN'] + bard_df['AREAP'], density=True, bins=100, color='pink')\n",
    "ax.set_title('absolute area')"
   ]
  },
  {
   "cell_type": "code",
   "execution_count": null,
   "metadata": {},
   "outputs": [],
   "source": [
    "np.random.seed(10**7)\n",
    "mu = 121  \n",
    "sigma = 21\n",
    "x = mu + sigma * np.random.randn(1000)\n",
    "  \n",
    "num_bins = 100\n",
    "fig, ax = plt.subplots()\n",
    "  \n",
    "n, bins, patches = ax.hist(bard_df['FLUXP'] + bard_df['FLUXN'], num_bins, density = 1, color ='orchid', alpha = 0.7)\n",
    "  \n",
    "y = ((1 / (np.sqrt(2 * np.pi) * sigma)) *\n",
    "     np.exp(-0.5 * (1 / sigma * (bins - mu))**2))\n",
    "ax.plot(bins, y, '--', color ='black')\n",
    "ax.set_xlabel('X-Axis')\n",
    "ax.set_ylabel('Y-Axis')\n",
    "  \n",
    "ax.set_title('absolute flux')\n",
    "plt.show()"
   ]
  },
  {
   "cell_type": "code",
   "execution_count": null,
   "metadata": {},
   "outputs": [],
   "source": [
    "#pickling\n",
    "file_pattern = 'path/to/files/*.csv'\n",
    "file_paths = glob.glob(file_pattern)\n",
    "\n",
    "for file_path in file_paths:\n",
    "    df = pd.read_csv(file_path)\n",
    "    pickle_file_path = file_path + '.pickle'\n",
    "    df.to_pickle(pickle_file_path)\n",
    "    print(f\"Converted {file_path} to {pickle_file_path}\")"
   ]
  },
  {
   "cell_type": "code",
   "execution_count": null,
   "metadata": {},
   "outputs": [],
   "source": [
    "#plotting evolution of flux and area over time\n",
    "plt.plot(sliced_df['AREAP'] + sliced_df['AREAN'] + sliced_df['FLUXP'] + sliced_df['FLUXN'], sliced_df['DATE'], color = 'pink')\n",
    "ax.set_xlabel('absolute area')\n",
    "ax.set_ylabel('absolute flux')\n",
    "ax.set_title('evolution of flux and area over time')"
   ]
  },
  {
   "attachments": {},
   "cell_type": "markdown",
   "metadata": {},
   "source": [
    "\n",
    "#Two-panel plot with flux vs. date in one plot, and area vs. date on another (random selection)\n",
    "Label the plot, suptitle with the ar_id.\n",
    "\n",
    "do the graphs from the slice"
   ]
  },
  {
   "cell_type": "code",
   "execution_count": null,
   "metadata": {},
   "outputs": [],
   "source": [
    "#TWO \n",
    "fig, (ax1, ax2) = plt.subplots(2, 1, figsize=(8, 6))\n",
    "\n",
    "# Plot the first panel\n",
    "ax1.plot(bard_df['FLUXN'] + bard_df['FLUXP'], bard_df['DATE'], color='blue')\n",
    "ax1.set_xlabel('absolute flux')\n",
    "ax1.set_ylabel('date')\n",
    "\n",
    "\n",
    "# Plot the second panel\n",
    "ax2.plot(bard_df['AREAP'] + bard_df['AREAN'], bard_df['DATE'], color='red')\n",
    "ax2.set_xlabel('absolute area')\n",
    "ax2.set_ylabel('date')\n",
    "\n",
    "plt.xticks(rotation=90)\n",
    "# Adjust the spacing between subplots\n",
    "plt.tight_layout()"
   ]
  },
  {
   "attachments": {},
   "cell_type": "markdown",
   "metadata": {},
   "source": [
    "logistic regression steps:\n",
    "\n",
    "pandas has a method called groupby-- use it to take all of the data and group it by day\n",
    "\n",
    "what we want \n",
    "- calculate total amount of area by the day\n",
    "- calculate total amount of flux by the day\n",
    "\n",
    "these are the features we will use to cast the space weather **esp flux \n",
    "\n",
    "important to make daily forecast\n",
    "\n",
    "maybe put groupby for group quantities of flux in chatgpt"
   ]
  },
  {
   "cell_type": "code",
   "execution_count": null,
   "metadata": {},
   "outputs": [],
   "source": [
    "#groupby for positive area\n",
    "total_area_by_day = bard_df.groupby('DATE')['AREAP'].sum()\n",
    "\n",
    "print(total_area_by_day)"
   ]
  },
  {
   "cell_type": "code",
   "execution_count": null,
   "metadata": {},
   "outputs": [],
   "source": [
    "#groupby for positive flux\n",
    "total_flux_by_day = bard_df.groupby('DATE')['FLUXP'].sum()\n",
    "\n",
    "print(total_flux_by_day)"
   ]
  },
  {
   "attachments": {},
   "cell_type": "markdown",
   "metadata": {},
   "source": [
    "uploading flare data:"
   ]
  },
  {
   "cell_type": "code",
   "execution_count": null,
   "metadata": {},
   "outputs": [],
   "source": [
    "# Replace 'GITHUB_CSV_URL' with the actual URL of the CSV file on GitHub\n",
    "github_csv_url = 'hek_flare_catalog.csv'\n",
    "\n",
    "# Fetch the content from the URL\n",
    "response = requests.get(github_csv_url)\n",
    "\n",
    "# Read the content into a DataFrame\n",
    "df = pd.read_csv(pd.compat.StringIO(response.text))"
   ]
  }
 ],
 "metadata": {
  "kernelspec": {
   "display_name": "bard",
   "language": "python",
   "name": "python3"
  },
  "language_info": {
   "name": "python",
   "version": "3.11.3"
  },
  "orig_nbformat": 4
 },
 "nbformat": 4,
 "nbformat_minor": 2
}
