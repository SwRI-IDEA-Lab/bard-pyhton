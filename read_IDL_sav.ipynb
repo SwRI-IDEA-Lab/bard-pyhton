{
 "cells": [
  {
   "cell_type": "code",
   "execution_count": 2,
   "metadata": {},
   "outputs": [],
   "source": [
    "import numpy as np\n",
    "from os.path import dirname, join as pjoin\n",
    "import scipy.io as sio\n",
    "from scipy.io import readsav\n",
    "import pandas as pd\n",
    "import pickle "
   ]
  },
  {
   "cell_type": "code",
   "execution_count": 3,
   "metadata": {},
   "outputs": [
    {
     "ename": "FileNotFoundError",
     "evalue": "[Errno 2] No such file or directory: 'data/AR_catalog_21_22.sav'",
     "output_type": "error",
     "traceback": [
      "\u001b[0;31m---------------------------------------------------------------------------\u001b[0m",
      "\u001b[0;31mFileNotFoundError\u001b[0m                         Traceback (most recent call last)",
      "Cell \u001b[0;32mIn[3], line 4\u001b[0m\n\u001b[1;32m      2\u001b[0m \u001b[39mfrom\u001b[39;00m \u001b[39mscipy\u001b[39;00m\u001b[39m.\u001b[39;00m\u001b[39mio\u001b[39;00m \u001b[39mimport\u001b[39;00m readsav\n\u001b[1;32m      3\u001b[0m input_filename \u001b[39m=\u001b[39m pjoin(\u001b[39m'\u001b[39m\u001b[39mdata\u001b[39m\u001b[39m'\u001b[39m, \u001b[39m'\u001b[39m\u001b[39mAR_catalog_21_22.sav\u001b[39m\u001b[39m'\u001b[39m)\n\u001b[0;32m----> 4\u001b[0m fromIDL \u001b[39m=\u001b[39m readsav(input_filename)\n\u001b[1;32m      5\u001b[0m fromIDL\n",
      "File \u001b[0;32m~/anaconda3/envs/bard/lib/python3.11/site-packages/scipy/io/_idl.py:752\u001b[0m, in \u001b[0;36mreadsav\u001b[0;34m(file_name, idict, python_dict, uncompressed_file_name, verbose)\u001b[0m\n\u001b[1;32m    749\u001b[0m     variables \u001b[39m=\u001b[39m AttrDict()\n\u001b[1;32m    751\u001b[0m \u001b[39m# Open the IDL file\u001b[39;00m\n\u001b[0;32m--> 752\u001b[0m f \u001b[39m=\u001b[39m \u001b[39mopen\u001b[39;49m(file_name, \u001b[39m'\u001b[39;49m\u001b[39mrb\u001b[39;49m\u001b[39m'\u001b[39;49m)\n\u001b[1;32m    754\u001b[0m \u001b[39m# Read the signature, which should be 'SR'\u001b[39;00m\n\u001b[1;32m    755\u001b[0m signature \u001b[39m=\u001b[39m _read_bytes(f, \u001b[39m2\u001b[39m)\n",
      "\u001b[0;31mFileNotFoundError\u001b[0m: [Errno 2] No such file or directory: 'data/AR_catalog_21_22.sav'"
     ]
    }
   ],
   "source": [
    "#AR_catalog_21_22.sav\n",
    "from scipy.io import readsav\n",
    "input_filename = pjoin('data', 'AR_catalog_21_22.sav')\n",
    "fromIDL = readsav(input_filename)\n",
    "fromIDL"
   ]
  },
  {
   "cell_type": "code",
   "execution_count": null,
   "metadata": {},
   "outputs": [],
   "source": [
    "#AR_catalog_22.sav\n",
    "input_filename = pjoin('data', 'AR_catalog_22.sav')\n",
    "fromIDL = readsav(input_filename)\n",
    "fromIDL"
   ]
  },
  {
   "cell_type": "code",
   "execution_count": null,
   "metadata": {},
   "outputs": [],
   "source": [
    "#AR_catalog.sav\n",
    "input_filename = pjoin('data', 'AR_catalog.sav')\n",
    "fromIDL = readsav(input_filename)\n",
    "fromIDL"
   ]
  },
  {
   "cell_type": "code",
   "execution_count": null,
   "metadata": {},
   "outputs": [],
   "source": [
    "#HMI_2014-07-30.sav\n",
    "input_filename = pjoin('data', 'HMI_2014-07-30.sav')\n",
    "fromIDL = readsav(input_filename)\n",
    "fromIDL"
   ]
  },
  {
   "cell_type": "code",
   "execution_count": null,
   "metadata": {},
   "outputs": [],
   "source": [
    "fromIDL ['arst']"
   ]
  },
  {
   "attachments": {},
   "cell_type": "markdown",
   "metadata": {},
   "source": []
  },
  {
   "cell_type": "code",
   "execution_count": null,
   "metadata": {},
   "outputs": [],
   "source": [
    "# Import pandas package \n",
    "import pandas as pd \n",
    "    \n",
    "# making data frame \n",
    "data = pd.read_csv('arst') \n",
    "    \n",
    "# calling head() method  \n",
    "# storing in new variable \n",
    "data_top = data.head() \n",
    "    \n",
    "# display \n",
    "data_top "
   ]
  },
  {
   "cell_type": "code",
   "execution_count": null,
   "metadata": {},
   "outputs": [],
   "source": [
    "column_dict = {#insert the colun names that are not printing rn :( )}\n",
    "print(column_dict)"
   ]
  },
  {
   "cell_type": "code",
   "execution_count": null,
   "metadata": {},
   "outputs": [],
   "source": [
    "#saving a"
   ]
  }
 ],
 "metadata": {
  "kernelspec": {
   "display_name": "bard",
   "language": "python",
   "name": "python3"
  },
  "language_info": {
   "codemirror_mode": {
    "name": "ipython",
    "version": 3
   },
   "file_extension": ".py",
   "mimetype": "text/x-python",
   "name": "python",
   "nbconvert_exporter": "python",
   "pygments_lexer": "ipython3",
   "version": "3.11.3"
  },
  "orig_nbformat": 4
 },
 "nbformat": 4,
 "nbformat_minor": 2
}
